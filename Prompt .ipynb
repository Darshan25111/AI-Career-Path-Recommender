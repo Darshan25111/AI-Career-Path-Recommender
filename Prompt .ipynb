{
 "cells": [
  {
   "cell_type": "code",
   "execution_count": 26,
   "id": "3b456805-a3b2-40e3-a8dc-9534f6ac4a22",
   "metadata": {},
   "outputs": [
    {
     "name": "stdout",
     "output_type": "stream",
     "text": [
      "Requirement already satisfied: langchain in c:\\users\\darshan\\anaconda3\\lib\\site-packages (0.3.25)\n",
      "Requirement already satisfied: faiss-cpu in c:\\users\\darshan\\anaconda3\\lib\\site-packages (1.11.0)\n",
      "Requirement already satisfied: sentence-transformers in c:\\users\\darshan\\anaconda3\\lib\\site-packages (4.1.0)\n",
      "Requirement already satisfied: python-dotenv in c:\\users\\darshan\\anaconda3\\lib\\site-packages (0.21.0)\n",
      "Requirement already satisfied: langchain-core<1.0.0,>=0.3.58 in c:\\users\\darshan\\anaconda3\\lib\\site-packages (from langchain) (0.3.64)\n",
      "Requirement already satisfied: langchain-text-splitters<1.0.0,>=0.3.8 in c:\\users\\darshan\\anaconda3\\lib\\site-packages (from langchain) (0.3.8)\n",
      "Requirement already satisfied: langsmith<0.4,>=0.1.17 in c:\\users\\darshan\\anaconda3\\lib\\site-packages (from langchain) (0.3.45)\n",
      "Requirement already satisfied: pydantic<3.0.0,>=2.7.4 in c:\\users\\darshan\\anaconda3\\lib\\site-packages (from langchain) (2.8.2)\n",
      "Requirement already satisfied: SQLAlchemy<3,>=1.4 in c:\\users\\darshan\\anaconda3\\lib\\site-packages (from langchain) (2.0.34)\n",
      "Requirement already satisfied: requests<3,>=2 in c:\\users\\darshan\\anaconda3\\lib\\site-packages (from langchain) (2.32.3)\n",
      "Requirement already satisfied: PyYAML>=5.3 in c:\\users\\darshan\\anaconda3\\lib\\site-packages (from langchain) (6.0.1)\n",
      "Requirement already satisfied: numpy<3.0,>=1.25.0 in c:\\users\\darshan\\anaconda3\\lib\\site-packages (from faiss-cpu) (1.26.4)\n",
      "Requirement already satisfied: packaging in c:\\users\\darshan\\anaconda3\\lib\\site-packages (from faiss-cpu) (24.1)\n",
      "Requirement already satisfied: transformers<5.0.0,>=4.41.0 in c:\\users\\darshan\\anaconda3\\lib\\site-packages (from sentence-transformers) (4.51.3)\n",
      "Requirement already satisfied: tqdm in c:\\users\\darshan\\anaconda3\\lib\\site-packages (from sentence-transformers) (4.66.5)\n",
      "Requirement already satisfied: torch>=1.11.0 in c:\\users\\darshan\\anaconda3\\lib\\site-packages (from sentence-transformers) (2.7.0)\n",
      "Requirement already satisfied: scikit-learn in c:\\users\\darshan\\anaconda3\\lib\\site-packages (from sentence-transformers) (1.5.1)\n",
      "Requirement already satisfied: scipy in c:\\users\\darshan\\anaconda3\\lib\\site-packages (from sentence-transformers) (1.13.1)\n",
      "Requirement already satisfied: huggingface-hub>=0.20.0 in c:\\users\\darshan\\anaconda3\\lib\\site-packages (from sentence-transformers) (0.31.2)\n",
      "Requirement already satisfied: Pillow in c:\\users\\darshan\\anaconda3\\lib\\site-packages (from sentence-transformers) (10.4.0)\n",
      "Requirement already satisfied: typing_extensions>=4.5.0 in c:\\users\\darshan\\anaconda3\\lib\\site-packages (from sentence-transformers) (4.14.0)\n",
      "Requirement already satisfied: filelock in c:\\users\\darshan\\anaconda3\\lib\\site-packages (from huggingface-hub>=0.20.0->sentence-transformers) (3.13.1)\n",
      "Requirement already satisfied: fsspec>=2023.5.0 in c:\\users\\darshan\\anaconda3\\lib\\site-packages (from huggingface-hub>=0.20.0->sentence-transformers) (2024.6.1)\n",
      "Requirement already satisfied: tenacity!=8.4.0,<10.0.0,>=8.1.0 in c:\\users\\darshan\\anaconda3\\lib\\site-packages (from langchain-core<1.0.0,>=0.3.58->langchain) (8.2.3)\n",
      "Requirement already satisfied: jsonpatch<2.0,>=1.33 in c:\\users\\darshan\\anaconda3\\lib\\site-packages (from langchain-core<1.0.0,>=0.3.58->langchain) (1.33)\n",
      "Requirement already satisfied: httpx<1,>=0.23.0 in c:\\users\\darshan\\anaconda3\\lib\\site-packages (from langsmith<0.4,>=0.1.17->langchain) (0.27.0)\n",
      "Requirement already satisfied: orjson<4.0.0,>=3.9.14 in c:\\users\\darshan\\anaconda3\\lib\\site-packages (from langsmith<0.4,>=0.1.17->langchain) (3.10.18)\n",
      "Requirement already satisfied: requests-toolbelt<2.0.0,>=1.0.0 in c:\\users\\darshan\\anaconda3\\lib\\site-packages (from langsmith<0.4,>=0.1.17->langchain) (1.0.0)\n",
      "Requirement already satisfied: zstandard<0.24.0,>=0.23.0 in c:\\users\\darshan\\anaconda3\\lib\\site-packages (from langsmith<0.4,>=0.1.17->langchain) (0.23.0)\n",
      "Requirement already satisfied: annotated-types>=0.4.0 in c:\\users\\darshan\\anaconda3\\lib\\site-packages (from pydantic<3.0.0,>=2.7.4->langchain) (0.6.0)\n",
      "Requirement already satisfied: pydantic-core==2.20.1 in c:\\users\\darshan\\anaconda3\\lib\\site-packages (from pydantic<3.0.0,>=2.7.4->langchain) (2.20.1)\n",
      "Requirement already satisfied: charset-normalizer<4,>=2 in c:\\users\\darshan\\anaconda3\\lib\\site-packages (from requests<3,>=2->langchain) (3.3.2)\n",
      "Requirement already satisfied: idna<4,>=2.5 in c:\\users\\darshan\\anaconda3\\lib\\site-packages (from requests<3,>=2->langchain) (3.7)\n",
      "Requirement already satisfied: urllib3<3,>=1.21.1 in c:\\users\\darshan\\anaconda3\\lib\\site-packages (from requests<3,>=2->langchain) (2.2.3)\n",
      "Requirement already satisfied: certifi>=2017.4.17 in c:\\users\\darshan\\anaconda3\\lib\\site-packages (from requests<3,>=2->langchain) (2024.8.30)\n",
      "Requirement already satisfied: greenlet!=0.4.17 in c:\\users\\darshan\\anaconda3\\lib\\site-packages (from SQLAlchemy<3,>=1.4->langchain) (3.0.1)\n",
      "Requirement already satisfied: sympy>=1.13.3 in c:\\users\\darshan\\anaconda3\\lib\\site-packages (from torch>=1.11.0->sentence-transformers) (1.14.0)\n",
      "Requirement already satisfied: networkx in c:\\users\\darshan\\anaconda3\\lib\\site-packages (from torch>=1.11.0->sentence-transformers) (3.3)\n",
      "Requirement already satisfied: jinja2 in c:\\users\\darshan\\anaconda3\\lib\\site-packages (from torch>=1.11.0->sentence-transformers) (3.1.4)\n",
      "Requirement already satisfied: setuptools in c:\\users\\darshan\\anaconda3\\lib\\site-packages (from torch>=1.11.0->sentence-transformers) (75.1.0)\n",
      "Requirement already satisfied: colorama in c:\\users\\darshan\\anaconda3\\lib\\site-packages (from tqdm->sentence-transformers) (0.4.6)\n",
      "Requirement already satisfied: regex!=2019.12.17 in c:\\users\\darshan\\anaconda3\\lib\\site-packages (from transformers<5.0.0,>=4.41.0->sentence-transformers) (2024.9.11)\n",
      "Requirement already satisfied: tokenizers<0.22,>=0.21 in c:\\users\\darshan\\anaconda3\\lib\\site-packages (from transformers<5.0.0,>=4.41.0->sentence-transformers) (0.21.1)\n",
      "Requirement already satisfied: safetensors>=0.4.3 in c:\\users\\darshan\\anaconda3\\lib\\site-packages (from transformers<5.0.0,>=4.41.0->sentence-transformers) (0.5.3)\n",
      "Requirement already satisfied: joblib>=1.2.0 in c:\\users\\darshan\\anaconda3\\lib\\site-packages (from scikit-learn->sentence-transformers) (1.4.2)\n",
      "Requirement already satisfied: threadpoolctl>=3.1.0 in c:\\users\\darshan\\anaconda3\\lib\\site-packages (from scikit-learn->sentence-transformers) (3.5.0)\n",
      "Requirement already satisfied: anyio in c:\\users\\darshan\\anaconda3\\lib\\site-packages (from httpx<1,>=0.23.0->langsmith<0.4,>=0.1.17->langchain) (4.2.0)\n",
      "Requirement already satisfied: httpcore==1.* in c:\\users\\darshan\\anaconda3\\lib\\site-packages (from httpx<1,>=0.23.0->langsmith<0.4,>=0.1.17->langchain) (1.0.2)\n",
      "Requirement already satisfied: sniffio in c:\\users\\darshan\\anaconda3\\lib\\site-packages (from httpx<1,>=0.23.0->langsmith<0.4,>=0.1.17->langchain) (1.3.0)\n",
      "Requirement already satisfied: h11<0.15,>=0.13 in c:\\users\\darshan\\anaconda3\\lib\\site-packages (from httpcore==1.*->httpx<1,>=0.23.0->langsmith<0.4,>=0.1.17->langchain) (0.14.0)\n",
      "Requirement already satisfied: jsonpointer>=1.9 in c:\\users\\darshan\\anaconda3\\lib\\site-packages (from jsonpatch<2.0,>=1.33->langchain-core<1.0.0,>=0.3.58->langchain) (2.1)\n",
      "Requirement already satisfied: mpmath<1.4,>=1.1.0 in c:\\users\\darshan\\anaconda3\\lib\\site-packages (from sympy>=1.13.3->torch>=1.11.0->sentence-transformers) (1.3.0)\n",
      "Requirement already satisfied: MarkupSafe>=2.0 in c:\\users\\darshan\\anaconda3\\lib\\site-packages (from jinja2->torch>=1.11.0->sentence-transformers) (2.1.3)\n"
     ]
    }
   ],
   "source": [
    "!pip install langchain faiss-cpu sentence-transformers python-dotenv"
   ]
  },
  {
   "cell_type": "code",
   "execution_count": 27,
   "id": "d65bf5a7-2811-4ae6-9a17-87c49ea97ff0",
   "metadata": {},
   "outputs": [],
   "source": [
    "from langchain.embeddings import HuggingFaceEmbeddings\n",
    "from langchain.vectorstores import FAISS\n",
    "import os"
   ]
  },
  {
   "cell_type": "code",
   "execution_count": 28,
   "id": "7ecace58-afbc-43ee-8b5b-a1a298a871d1",
   "metadata": {},
   "outputs": [],
   "source": [
    "career_paths = {\n",
    "    \"Software Engineer\": \"Develops software applications, systems, and tools using programming languages.\",\n",
    "    \"Data Scientist\": \"Analyzes and interprets complex data to help companies make decisions.\",\n",
    "    \"Digital Marketer\": \"Uses online platforms to promote products and engage with customers.\",\n",
    "    \"Mechanical Engineer\": \"Designs and improves mechanical systems such as engines and machinery.\",\n",
    "    \"Graphic Designer\": \"Creates visual content for branding, marketing, and digital media using design software.\",\n",
    "    \"Psychologist\": \"Studies human behavior, emotions, and mental health to support and counsel individuals.\",\n",
    "}"
   ]
  },
  {
   "cell_type": "code",
   "execution_count": 29,
   "id": "1bdffa65-33af-4f8e-b083-7812f602d743",
   "metadata": {},
   "outputs": [
    {
     "name": "stderr",
     "output_type": "stream",
     "text": [
      "C:\\Users\\Darshan\\AppData\\Local\\Temp\\ipykernel_20388\\3655444488.py:1: LangChainDeprecationWarning: Default values for HuggingFaceEmbeddings.model_name were deprecated in LangChain 0.2.16 and will be removed in 0.4.0. Explicitly pass a model_name to the HuggingFaceEmbeddings constructor instead.\n",
      "  embedding_model = HuggingFaceEmbeddings()\n"
     ]
    }
   ],
   "source": [
    "embedding_model = HuggingFaceEmbeddings()\n",
    "descriptions = [f\"{k}: {v}\" for k, v in career_paths.items()]\n",
    "db = FAISS.from_texts(descriptions, embedding_model)"
   ]
  },
  {
   "cell_type": "code",
   "execution_count": 30,
   "id": "70947b87-a5ec-41e5-82dc-a9065d7acf49",
   "metadata": {},
   "outputs": [],
   "source": [
    "options = {\n",
    "    \"task\": {\n",
    "        \"a\": \"Solving technical problems\",\n",
    "        \"b\": \"Analyzing data or trends\",\n",
    "        \"c\": \"Creating designs or artwork\",\n",
    "        \"d\": \"Helping others emotionally\",\n",
    "        \"e\": \"Promoting or branding products\",\n",
    "        \"f\": \"Working with machines or engines\"\n",
    "    },\n",
    "    \"subject\": {\n",
    "        \"a\": \"Computer Science\",\n",
    "        \"b\": \"Mathematics or Statistics\",\n",
    "        \"c\": \"Art or Design\",\n",
    "        \"d\": \"Psychology or Sociology\",\n",
    "        \"e\": \"Marketing or Business\",\n",
    "        \"f\": \"Mechanical or Electrical Engineering\"\n",
    "    },\n",
    "    \"style\": {\n",
    "        \"a\": \"Analytical\",\n",
    "        \"b\": \"Creative\",\n",
    "        \"c\": \"Empathetic\",\n",
    "        \"d\": \"Hands-on\"\n",
    "    },\n",
    "    \"environment\": {\n",
    "        \"a\": \"Office\",\n",
    "        \"b\": \"Remote\",\n",
    "        \"c\": \"Studio\",\n",
    "        \"d\": \"Lab or Workshop\",\n",
    "        \"e\": \"Clinic\",\n",
    "        \"f\": \"Startup\"\n",
    "    },\n",
    "    \"motivation\": {\n",
    "        \"a\": \"Problem-solving\",\n",
    "        \"b\": \"Creative expression\",\n",
    "        \"c\": \"Helping people\",\n",
    "        \"d\": \"Improving systems\",\n",
    "        \"e\": \"Business growth\",\n",
    "        \"f\": \"Exploring human behavior\"\n",
    "    }\n",
    "}\n"
   ]
  },
  {
   "cell_type": "code",
   "execution_count": 31,
   "id": "0a27cedb-50ba-47b2-b571-87bca177f3c7",
   "metadata": {},
   "outputs": [],
   "source": [
    "def ask_question(q_text, q_key):\n",
    "    print(f\"\\n{q_text}\")\n",
    "    for key, value in options[q_key].items():\n",
    "        print(f\"  {key}) {value}\")\n",
    "    ans = input(\"Choose an option (a-f): \").lower()\n",
    "    return options[q_key].get(ans, \"\")\n",
    "\n",
    "def predict_career(input_summary):\n",
    "    similar_doc = db.similarity_search(input_summary, k=1)\n",
    "    if not similar_doc:\n",
    "        return None, None\n",
    "    best_match = similar_doc[0].page_content\n",
    "    label, desc = best_match.split(\":\", 1)\n",
    "    return label.strip(), desc.strip()\n",
    "\n",
    "def explain_career_match(input_summary, career, desc):\n",
    "    return (\n",
    "        f\"\\n🎯 **Suggested Career:** {career}\\n\"\n",
    "        f\"🧠 Based on your choices: *'{input_summary}'*, your profile aligns with a **{career}**.\\n\"\n",
    "        f\"💼 This career typically involves: {desc.lower()}\"\n",
    "    )"
   ]
  },
  {
   "cell_type": "code",
   "execution_count": 32,
   "id": "98316bd5-c5bb-4793-b6a9-102b8dd7a2e9",
   "metadata": {},
   "outputs": [
    {
     "name": "stdout",
     "output_type": "stream",
     "text": [
      "🎓 Welcome to the AI Career Path Recommender!\n",
      "Please answer the following questions:\n",
      "\n",
      "1. What kind of tasks do you enjoy?\n",
      "  a) Solving technical problems\n",
      "  b) Analyzing data or trends\n",
      "  c) Creating designs or artwork\n",
      "  d) Helping others emotionally\n",
      "  e) Promoting or branding products\n",
      "  f) Working with machines or engines\n"
     ]
    },
    {
     "name": "stdin",
     "output_type": "stream",
     "text": [
      "Choose an option (a-f):  a\n"
     ]
    },
    {
     "name": "stdout",
     "output_type": "stream",
     "text": [
      "\n",
      "2. What is your favorite subject?\n",
      "  a) Computer Science\n",
      "  b) Mathematics or Statistics\n",
      "  c) Art or Design\n",
      "  d) Psychology or Sociology\n",
      "  e) Marketing or Business\n",
      "  f) Mechanical or Electrical Engineering\n"
     ]
    },
    {
     "name": "stdin",
     "output_type": "stream",
     "text": [
      "Choose an option (a-f):  a\n"
     ]
    },
    {
     "name": "stdout",
     "output_type": "stream",
     "text": [
      "\n",
      "3. What is your preferred work style?\n",
      "  a) Analytical\n",
      "  b) Creative\n",
      "  c) Empathetic\n",
      "  d) Hands-on\n"
     ]
    },
    {
     "name": "stdin",
     "output_type": "stream",
     "text": [
      "Choose an option (a-f):  a\n"
     ]
    },
    {
     "name": "stdout",
     "output_type": "stream",
     "text": [
      "\n",
      "4. What work environment do you prefer?\n",
      "  a) Office\n",
      "  b) Remote\n",
      "  c) Studio\n",
      "  d) Lab or Workshop\n",
      "  e) Clinic\n",
      "  f) Startup\n"
     ]
    },
    {
     "name": "stdin",
     "output_type": "stream",
     "text": [
      "Choose an option (a-f):  a\n"
     ]
    },
    {
     "name": "stdout",
     "output_type": "stream",
     "text": [
      "\n",
      "5. What motivates you most?\n",
      "  a) Problem-solving\n",
      "  b) Creative expression\n",
      "  c) Helping people\n",
      "  d) Improving systems\n",
      "  e) Business growth\n",
      "  f) Exploring human behavior\n"
     ]
    },
    {
     "name": "stdin",
     "output_type": "stream",
     "text": [
      "Choose an option (a-f):  a\n"
     ]
    },
    {
     "name": "stdout",
     "output_type": "stream",
     "text": [
      "\n",
      "✅ Analyzing your responses...\n",
      "\n",
      "🎯 **Suggested Career:** Data Scientist\n",
      "🧠 Based on your choices: *'Solving technical problems, Computer Science, Analytical, Office, Problem-solving'*, your profile aligns with a **Data Scientist**.\n",
      "💼 This career typically involves: analyzes and interprets complex data to help companies make decisions.\n"
     ]
    }
   ],
   "source": [
    "print(\"🎓 Welcome to the AI Career Path Recommender!\\nPlease answer the following questions:\")\n",
    "\n",
    "q1 = ask_question(\"1. What kind of tasks do you enjoy?\", \"task\")\n",
    "q2 = ask_question(\"2. What is your favorite subject?\", \"subject\")\n",
    "q3 = ask_question(\"3. What is your preferred work style?\", \"style\")\n",
    "q4 = ask_question(\"4. What work environment do you prefer?\", \"environment\")\n",
    "q5 = ask_question(\"5. What motivates you most?\", \"motivation\")\n",
    "\n",
    "# Combine user input\n",
    "user_summary = f\"{q1}, {q2}, {q3}, {q4}, {q5}\"\n",
    "\n",
    "# Predict\n",
    "career, desc = predict_career(user_summary)\n",
    "\n",
    "if career:\n",
    "    explanation = explain_career_match(user_summary, career, desc)\n",
    "    print(\"\\n✅ Analyzing your responses...\")\n",
    "    print(explanation)\n",
    "else:\n",
    "    print(\"\\n⚠️ Couldn't confidently predict a career.\")\n",
    "    clarification = input(\"Can you describe in your own words what you enjoy doing? \")\n",
    "    career, desc = predict_career(clarification)\n",
    "    if career:\n",
    "        explanation = explain_career_match(clarification, career, desc)\n",
    "        print(\"\\n🔁 Based on your clarification:\")\n",
    "        print(explanation)\n",
    "    else:\n",
    "        print(\"❌ Sorry, we still couldn’t determine a match. Try again with more detailed input.\")\n"
   ]
  }
 ],
 "metadata": {
  "kernelspec": {
   "display_name": "Python 3 (ipykernel)",
   "language": "python",
   "name": "python3"
  },
  "language_info": {
   "codemirror_mode": {
    "name": "ipython",
    "version": 3
   },
   "file_extension": ".py",
   "mimetype": "text/x-python",
   "name": "python",
   "nbconvert_exporter": "python",
   "pygments_lexer": "ipython3",
   "version": "3.12.7"
  }
 },
 "nbformat": 4,
 "nbformat_minor": 5
}
